{
 "cells": [
  {
   "cell_type": "markdown",
   "id": "2b1b58f4",
   "metadata": {},
   "source": [
    "# ANÁLISE DE DADOS ENEM 2019 DO ESTADO DE SP\n",
    "\n",
    "Análise baseada no curso de Estatística para Análise de Dados com Python, ministrada pelo prof. Luciano Galdino, pela plataforma Udemy.\n",
    "\n",
    "Dados extraídos do site do INEP:\n",
    "\n",
    "http://inep.gov.br/microdados"
   ]
  },
  {
   "cell_type": "code",
   "execution_count": 1,
   "id": "61edbff7",
   "metadata": {},
   "outputs": [],
   "source": [
    "import numpy as np\n",
    "import pandas as pd\n",
    "import matplotlib.pyplot as plt\n",
    "import seaborn as sns\n",
    "import plotly.express as px"
   ]
  },
  {
   "cell_type": "code",
   "execution_count": 2,
   "id": "6a9d7255",
   "metadata": {},
   "outputs": [],
   "source": [
    "df = pd.read_csv('D:/Programação/Estatistica_Python_Udemy/DATASET/microdados_enem_2019_sp.csv', sep=';', encoding='iso=8859-1')"
   ]
  },
  {
   "cell_type": "code",
   "execution_count": 3,
   "id": "b1c45662",
   "metadata": {},
   "outputs": [],
   "source": [
    "pd.set_option('display.max_columns', None)\n",
    "pd.set_option('display.max_rows', None)"
   ]
  },
  {
   "cell_type": "code",
   "execution_count": 4,
   "id": "95d5f711",
   "metadata": {
    "scrolled": false
   },
   "outputs": [
    {
     "data": {
      "text/html": [
       "<div>\n",
       "<style scoped>\n",
       "    .dataframe tbody tr th:only-of-type {\n",
       "        vertical-align: middle;\n",
       "    }\n",
       "\n",
       "    .dataframe tbody tr th {\n",
       "        vertical-align: top;\n",
       "    }\n",
       "\n",
       "    .dataframe thead th {\n",
       "        text-align: right;\n",
       "    }\n",
       "</style>\n",
       "<table border=\"1\" class=\"dataframe\">\n",
       "  <thead>\n",
       "    <tr style=\"text-align: right;\">\n",
       "      <th></th>\n",
       "      <th>NU_INSCRICAO</th>\n",
       "      <th>CO_MUNICIPIO_RESIDENCIA</th>\n",
       "      <th>NO_MUNICIPIO_RESIDENCIA</th>\n",
       "      <th>CO_UF_RESIDENCIA</th>\n",
       "      <th>SG_UF_RESIDENCIA</th>\n",
       "      <th>NU_IDADE</th>\n",
       "      <th>TP_SEXO</th>\n",
       "      <th>TP_ESTADO_CIVIL</th>\n",
       "      <th>TP_COR_RACA</th>\n",
       "      <th>TP_NACIONALIDADE</th>\n",
       "      <th>CO_MUNICIPIO_NASCIMENTO</th>\n",
       "      <th>NO_MUNICIPIO_NASCIMENTO</th>\n",
       "      <th>CO_UF_NASCIMENTO</th>\n",
       "      <th>SG_UF_NASCIMENTO</th>\n",
       "      <th>TP_ST_CONCLUSAO</th>\n",
       "      <th>TP_ANO_CONCLUIU</th>\n",
       "      <th>TP_ESCOLA</th>\n",
       "      <th>TP_ENSINO</th>\n",
       "      <th>IN_TREINEIRO</th>\n",
       "      <th>CO_ESCOLA</th>\n",
       "      <th>CO_MUNICIPIO_ESC</th>\n",
       "      <th>NO_MUNICIPIO_ESC</th>\n",
       "      <th>CO_UF_ESC</th>\n",
       "      <th>SG_UF_ESC</th>\n",
       "      <th>TP_DEPENDENCIA_ADM_ESC</th>\n",
       "      <th>TP_LOCALIZACAO_ESC</th>\n",
       "      <th>TP_SIT_FUNC_ESC</th>\n",
       "      <th>TP_PRESENCA_CN</th>\n",
       "      <th>TP_PRESENCA_CH</th>\n",
       "      <th>TP_PRESENCA_LC</th>\n",
       "      <th>TP_PRESENCA_MT</th>\n",
       "      <th>NU_NOTA_CN</th>\n",
       "      <th>NU_NOTA_CH</th>\n",
       "      <th>NU_NOTA_LC</th>\n",
       "      <th>NU_NOTA_MT</th>\n",
       "      <th>TP_LINGUA</th>\n",
       "      <th>TP_STATUS_REDACAO</th>\n",
       "      <th>NU_NOTA_COMP1</th>\n",
       "      <th>NU_NOTA_COMP2</th>\n",
       "      <th>NU_NOTA_COMP3</th>\n",
       "      <th>NU_NOTA_COMP4</th>\n",
       "      <th>NU_NOTA_COMP5</th>\n",
       "      <th>NU_NOTA_REDACAO</th>\n",
       "      <th>Q025</th>\n",
       "    </tr>\n",
       "  </thead>\n",
       "  <tbody>\n",
       "    <tr>\n",
       "      <th>0</th>\n",
       "      <td>1,90E+11</td>\n",
       "      <td>3546801</td>\n",
       "      <td>Santa Isabel</td>\n",
       "      <td>35</td>\n",
       "      <td>SP</td>\n",
       "      <td>22</td>\n",
       "      <td>M</td>\n",
       "      <td>1</td>\n",
       "      <td>3</td>\n",
       "      <td>1</td>\n",
       "      <td>1506500.0</td>\n",
       "      <td>Santa Izabel do Pará</td>\n",
       "      <td>15.0</td>\n",
       "      <td>PA</td>\n",
       "      <td>1</td>\n",
       "      <td>4</td>\n",
       "      <td>1</td>\n",
       "      <td>1.0</td>\n",
       "      <td>0</td>\n",
       "      <td>NaN</td>\n",
       "      <td>NaN</td>\n",
       "      <td>NaN</td>\n",
       "      <td>NaN</td>\n",
       "      <td>NaN</td>\n",
       "      <td>NaN</td>\n",
       "      <td>NaN</td>\n",
       "      <td>NaN</td>\n",
       "      <td>1</td>\n",
       "      <td>1</td>\n",
       "      <td>1</td>\n",
       "      <td>1</td>\n",
       "      <td>5646.0</td>\n",
       "      <td>5858.0</td>\n",
       "      <td>5929.0</td>\n",
       "      <td>6002.0</td>\n",
       "      <td>0</td>\n",
       "      <td>1.0</td>\n",
       "      <td>160.0</td>\n",
       "      <td>200.0</td>\n",
       "      <td>180.0</td>\n",
       "      <td>200.0</td>\n",
       "      <td>200.0</td>\n",
       "      <td>940.0</td>\n",
       "      <td>B</td>\n",
       "    </tr>\n",
       "    <tr>\n",
       "      <th>1</th>\n",
       "      <td>1,90E+11</td>\n",
       "      <td>3538204</td>\n",
       "      <td>Pinhalzinho</td>\n",
       "      <td>35</td>\n",
       "      <td>SP</td>\n",
       "      <td>19</td>\n",
       "      <td>M</td>\n",
       "      <td>1</td>\n",
       "      <td>3</td>\n",
       "      <td>1</td>\n",
       "      <td>1503804.0</td>\n",
       "      <td>Jacundá</td>\n",
       "      <td>15.0</td>\n",
       "      <td>PA</td>\n",
       "      <td>1</td>\n",
       "      <td>2</td>\n",
       "      <td>1</td>\n",
       "      <td>1.0</td>\n",
       "      <td>0</td>\n",
       "      <td>NaN</td>\n",
       "      <td>NaN</td>\n",
       "      <td>NaN</td>\n",
       "      <td>NaN</td>\n",
       "      <td>NaN</td>\n",
       "      <td>NaN</td>\n",
       "      <td>NaN</td>\n",
       "      <td>NaN</td>\n",
       "      <td>0</td>\n",
       "      <td>0</td>\n",
       "      <td>0</td>\n",
       "      <td>0</td>\n",
       "      <td>NaN</td>\n",
       "      <td>NaN</td>\n",
       "      <td>NaN</td>\n",
       "      <td>NaN</td>\n",
       "      <td>1</td>\n",
       "      <td>NaN</td>\n",
       "      <td>NaN</td>\n",
       "      <td>NaN</td>\n",
       "      <td>NaN</td>\n",
       "      <td>NaN</td>\n",
       "      <td>NaN</td>\n",
       "      <td>NaN</td>\n",
       "      <td>A</td>\n",
       "    </tr>\n",
       "    <tr>\n",
       "      <th>2</th>\n",
       "      <td>1,90E+11</td>\n",
       "      <td>3550308</td>\n",
       "      <td>São Paulo</td>\n",
       "      <td>35</td>\n",
       "      <td>SP</td>\n",
       "      <td>17</td>\n",
       "      <td>F</td>\n",
       "      <td>1</td>\n",
       "      <td>3</td>\n",
       "      <td>1</td>\n",
       "      <td>1501402.0</td>\n",
       "      <td>Belém</td>\n",
       "      <td>15.0</td>\n",
       "      <td>PA</td>\n",
       "      <td>2</td>\n",
       "      <td>0</td>\n",
       "      <td>3</td>\n",
       "      <td>1.0</td>\n",
       "      <td>0</td>\n",
       "      <td>15567761.0</td>\n",
       "      <td>1501402.0</td>\n",
       "      <td>Belém</td>\n",
       "      <td>15.0</td>\n",
       "      <td>PA</td>\n",
       "      <td>4.0</td>\n",
       "      <td>1.0</td>\n",
       "      <td>1.0</td>\n",
       "      <td>1</td>\n",
       "      <td>1</td>\n",
       "      <td>1</td>\n",
       "      <td>1</td>\n",
       "      <td>5762.0</td>\n",
       "      <td>6411.0</td>\n",
       "      <td>6343.0</td>\n",
       "      <td>7318.0</td>\n",
       "      <td>0</td>\n",
       "      <td>1.0</td>\n",
       "      <td>160.0</td>\n",
       "      <td>120.0</td>\n",
       "      <td>200.0</td>\n",
       "      <td>200.0</td>\n",
       "      <td>200.0</td>\n",
       "      <td>880.0</td>\n",
       "      <td>A</td>\n",
       "    </tr>\n",
       "    <tr>\n",
       "      <th>3</th>\n",
       "      <td>1,90E+11</td>\n",
       "      <td>3548708</td>\n",
       "      <td>São Bernardo do Campo</td>\n",
       "      <td>35</td>\n",
       "      <td>SP</td>\n",
       "      <td>19</td>\n",
       "      <td>M</td>\n",
       "      <td>1</td>\n",
       "      <td>3</td>\n",
       "      <td>1</td>\n",
       "      <td>3548708.0</td>\n",
       "      <td>São Bernardo do Campo</td>\n",
       "      <td>35.0</td>\n",
       "      <td>SP</td>\n",
       "      <td>2</td>\n",
       "      <td>0</td>\n",
       "      <td>2</td>\n",
       "      <td>1.0</td>\n",
       "      <td>0</td>\n",
       "      <td>35904958.0</td>\n",
       "      <td>3548708.0</td>\n",
       "      <td>São Bernardo do Campo</td>\n",
       "      <td>35.0</td>\n",
       "      <td>SP</td>\n",
       "      <td>2.0</td>\n",
       "      <td>1.0</td>\n",
       "      <td>1.0</td>\n",
       "      <td>1</td>\n",
       "      <td>1</td>\n",
       "      <td>1</td>\n",
       "      <td>1</td>\n",
       "      <td>4022.0</td>\n",
       "      <td>4248.0</td>\n",
       "      <td>5096.0</td>\n",
       "      <td>3932.0</td>\n",
       "      <td>1</td>\n",
       "      <td>1.0</td>\n",
       "      <td>80.0</td>\n",
       "      <td>160.0</td>\n",
       "      <td>120.0</td>\n",
       "      <td>100.0</td>\n",
       "      <td>100.0</td>\n",
       "      <td>560.0</td>\n",
       "      <td>B</td>\n",
       "    </tr>\n",
       "    <tr>\n",
       "      <th>4</th>\n",
       "      <td>1,90E+11</td>\n",
       "      <td>3549409</td>\n",
       "      <td>São Joaquim da Barra</td>\n",
       "      <td>35</td>\n",
       "      <td>SP</td>\n",
       "      <td>37</td>\n",
       "      <td>M</td>\n",
       "      <td>2</td>\n",
       "      <td>1</td>\n",
       "      <td>1</td>\n",
       "      <td>3549409.0</td>\n",
       "      <td>São Joaquim da Barra</td>\n",
       "      <td>35.0</td>\n",
       "      <td>SP</td>\n",
       "      <td>1</td>\n",
       "      <td>3</td>\n",
       "      <td>1</td>\n",
       "      <td>1.0</td>\n",
       "      <td>0</td>\n",
       "      <td>NaN</td>\n",
       "      <td>NaN</td>\n",
       "      <td>NaN</td>\n",
       "      <td>NaN</td>\n",
       "      <td>NaN</td>\n",
       "      <td>NaN</td>\n",
       "      <td>NaN</td>\n",
       "      <td>NaN</td>\n",
       "      <td>0</td>\n",
       "      <td>0</td>\n",
       "      <td>0</td>\n",
       "      <td>0</td>\n",
       "      <td>NaN</td>\n",
       "      <td>NaN</td>\n",
       "      <td>NaN</td>\n",
       "      <td>NaN</td>\n",
       "      <td>1</td>\n",
       "      <td>NaN</td>\n",
       "      <td>NaN</td>\n",
       "      <td>NaN</td>\n",
       "      <td>NaN</td>\n",
       "      <td>NaN</td>\n",
       "      <td>NaN</td>\n",
       "      <td>NaN</td>\n",
       "      <td>B</td>\n",
       "    </tr>\n",
       "  </tbody>\n",
       "</table>\n",
       "</div>"
      ],
      "text/plain": [
       "  NU_INSCRICAO  CO_MUNICIPIO_RESIDENCIA NO_MUNICIPIO_RESIDENCIA  \\\n",
       "0     1,90E+11                  3546801            Santa Isabel   \n",
       "1     1,90E+11                  3538204             Pinhalzinho   \n",
       "2     1,90E+11                  3550308               São Paulo   \n",
       "3     1,90E+11                  3548708   São Bernardo do Campo   \n",
       "4     1,90E+11                  3549409    São Joaquim da Barra   \n",
       "\n",
       "   CO_UF_RESIDENCIA SG_UF_RESIDENCIA  NU_IDADE TP_SEXO  TP_ESTADO_CIVIL  \\\n",
       "0                35               SP        22       M                1   \n",
       "1                35               SP        19       M                1   \n",
       "2                35               SP        17       F                1   \n",
       "3                35               SP        19       M                1   \n",
       "4                35               SP        37       M                2   \n",
       "\n",
       "   TP_COR_RACA  TP_NACIONALIDADE  CO_MUNICIPIO_NASCIMENTO  \\\n",
       "0            3                 1                1506500.0   \n",
       "1            3                 1                1503804.0   \n",
       "2            3                 1                1501402.0   \n",
       "3            3                 1                3548708.0   \n",
       "4            1                 1                3549409.0   \n",
       "\n",
       "  NO_MUNICIPIO_NASCIMENTO  CO_UF_NASCIMENTO SG_UF_NASCIMENTO  TP_ST_CONCLUSAO  \\\n",
       "0    Santa Izabel do Pará              15.0               PA                1   \n",
       "1                 Jacundá              15.0               PA                1   \n",
       "2                   Belém              15.0               PA                2   \n",
       "3   São Bernardo do Campo              35.0               SP                2   \n",
       "4    São Joaquim da Barra              35.0               SP                1   \n",
       "\n",
       "   TP_ANO_CONCLUIU  TP_ESCOLA  TP_ENSINO  IN_TREINEIRO   CO_ESCOLA  \\\n",
       "0                4          1        1.0             0         NaN   \n",
       "1                2          1        1.0             0         NaN   \n",
       "2                0          3        1.0             0  15567761.0   \n",
       "3                0          2        1.0             0  35904958.0   \n",
       "4                3          1        1.0             0         NaN   \n",
       "\n",
       "   CO_MUNICIPIO_ESC       NO_MUNICIPIO_ESC  CO_UF_ESC SG_UF_ESC  \\\n",
       "0               NaN                    NaN        NaN       NaN   \n",
       "1               NaN                    NaN        NaN       NaN   \n",
       "2         1501402.0                  Belém       15.0        PA   \n",
       "3         3548708.0  São Bernardo do Campo       35.0        SP   \n",
       "4               NaN                    NaN        NaN       NaN   \n",
       "\n",
       "   TP_DEPENDENCIA_ADM_ESC  TP_LOCALIZACAO_ESC  TP_SIT_FUNC_ESC  \\\n",
       "0                     NaN                 NaN              NaN   \n",
       "1                     NaN                 NaN              NaN   \n",
       "2                     4.0                 1.0              1.0   \n",
       "3                     2.0                 1.0              1.0   \n",
       "4                     NaN                 NaN              NaN   \n",
       "\n",
       "   TP_PRESENCA_CN  TP_PRESENCA_CH  TP_PRESENCA_LC  TP_PRESENCA_MT  NU_NOTA_CN  \\\n",
       "0               1               1               1               1      5646.0   \n",
       "1               0               0               0               0         NaN   \n",
       "2               1               1               1               1      5762.0   \n",
       "3               1               1               1               1      4022.0   \n",
       "4               0               0               0               0         NaN   \n",
       "\n",
       "   NU_NOTA_CH  NU_NOTA_LC  NU_NOTA_MT  TP_LINGUA  TP_STATUS_REDACAO  \\\n",
       "0      5858.0      5929.0      6002.0          0                1.0   \n",
       "1         NaN         NaN         NaN          1                NaN   \n",
       "2      6411.0      6343.0      7318.0          0                1.0   \n",
       "3      4248.0      5096.0      3932.0          1                1.0   \n",
       "4         NaN         NaN         NaN          1                NaN   \n",
       "\n",
       "   NU_NOTA_COMP1  NU_NOTA_COMP2  NU_NOTA_COMP3  NU_NOTA_COMP4  NU_NOTA_COMP5  \\\n",
       "0          160.0          200.0          180.0          200.0          200.0   \n",
       "1            NaN            NaN            NaN            NaN            NaN   \n",
       "2          160.0          120.0          200.0          200.0          200.0   \n",
       "3           80.0          160.0          120.0          100.0          100.0   \n",
       "4            NaN            NaN            NaN            NaN            NaN   \n",
       "\n",
       "   NU_NOTA_REDACAO Q025  \n",
       "0            940.0    B  \n",
       "1              NaN    A  \n",
       "2            880.0    A  \n",
       "3            560.0    B  \n",
       "4              NaN    B  "
      ]
     },
     "execution_count": 4,
     "metadata": {},
     "output_type": "execute_result"
    }
   ],
   "source": [
    "df.head()"
   ]
  },
  {
   "cell_type": "code",
   "execution_count": 5,
   "id": "697ffdd1",
   "metadata": {},
   "outputs": [
    {
     "name": "stdout",
     "output_type": "stream",
     "text": [
      "<class 'pandas.core.frame.DataFrame'>\n",
      "RangeIndex: 813772 entries, 0 to 813771\n",
      "Data columns (total 44 columns):\n",
      " #   Column                   Non-Null Count   Dtype  \n",
      "---  ------                   --------------   -----  \n",
      " 0   NU_INSCRICAO             813772 non-null  object \n",
      " 1   CO_MUNICIPIO_RESIDENCIA  813772 non-null  int64  \n",
      " 2   NO_MUNICIPIO_RESIDENCIA  813772 non-null  object \n",
      " 3   CO_UF_RESIDENCIA         813772 non-null  int64  \n",
      " 4   SG_UF_RESIDENCIA         813772 non-null  object \n",
      " 5   NU_IDADE                 813772 non-null  int64  \n",
      " 6   TP_SEXO                  813772 non-null  object \n",
      " 7   TP_ESTADO_CIVIL          813772 non-null  int64  \n",
      " 8   TP_COR_RACA              813772 non-null  int64  \n",
      " 9   TP_NACIONALIDADE         813772 non-null  int64  \n",
      " 10  CO_MUNICIPIO_NASCIMENTO  794063 non-null  float64\n",
      " 11  NO_MUNICIPIO_NASCIMENTO  794063 non-null  object \n",
      " 12  CO_UF_NASCIMENTO         794063 non-null  float64\n",
      " 13  SG_UF_NASCIMENTO         794063 non-null  object \n",
      " 14  TP_ST_CONCLUSAO          813772 non-null  int64  \n",
      " 15  TP_ANO_CONCLUIU          813772 non-null  int64  \n",
      " 16  TP_ESCOLA                813772 non-null  int64  \n",
      " 17  TP_ENSINO                452395 non-null  float64\n",
      " 18  IN_TREINEIRO             813772 non-null  int64  \n",
      " 19  CO_ESCOLA                219292 non-null  float64\n",
      " 20  CO_MUNICIPIO_ESC         219292 non-null  float64\n",
      " 21  NO_MUNICIPIO_ESC         219292 non-null  object \n",
      " 22  CO_UF_ESC                219292 non-null  float64\n",
      " 23  SG_UF_ESC                219292 non-null  object \n",
      " 24  TP_DEPENDENCIA_ADM_ESC   219292 non-null  float64\n",
      " 25  TP_LOCALIZACAO_ESC       219292 non-null  float64\n",
      " 26  TP_SIT_FUNC_ESC          219292 non-null  float64\n",
      " 27  TP_PRESENCA_CN           813772 non-null  int64  \n",
      " 28  TP_PRESENCA_CH           813772 non-null  int64  \n",
      " 29  TP_PRESENCA_LC           813772 non-null  int64  \n",
      " 30  TP_PRESENCA_MT           813772 non-null  int64  \n",
      " 31  NU_NOTA_CN               582605 non-null  float64\n",
      " 32  NU_NOTA_CH               620645 non-null  float64\n",
      " 33  NU_NOTA_LC               620645 non-null  float64\n",
      " 34  NU_NOTA_MT               582605 non-null  float64\n",
      " 35  TP_LINGUA                813772 non-null  int64  \n",
      " 36  TP_STATUS_REDACAO        620645 non-null  float64\n",
      " 37  NU_NOTA_COMP1            620645 non-null  float64\n",
      " 38  NU_NOTA_COMP2            620645 non-null  float64\n",
      " 39  NU_NOTA_COMP3            620645 non-null  float64\n",
      " 40  NU_NOTA_COMP4            620645 non-null  float64\n",
      " 41  NU_NOTA_COMP5            620645 non-null  float64\n",
      " 42  NU_NOTA_REDACAO          620645 non-null  float64\n",
      " 43  Q025                     813772 non-null  object \n",
      "dtypes: float64(20), int64(15), object(9)\n",
      "memory usage: 273.2+ MB\n"
     ]
    }
   ],
   "source": [
    "df.info()"
   ]
  },
  {
   "cell_type": "markdown",
   "id": "42c2d588",
   "metadata": {},
   "source": [
    "# FASE DE TRATAMENTO DOS DADOS"
   ]
  },
  {
   "cell_type": "code",
   "execution_count": 6,
   "id": "8239ff91",
   "metadata": {},
   "outputs": [],
   "source": [
    "# excluindo colunas que não serão utilizadas nesta analise\n",
    "df = df.drop(columns=['CO_MUNICIPIO_RESIDENCIA', 'SG_UF_RESIDENCIA', 'CO_UF_RESIDENCIA', 'TP_ESTADO_CIVIL', \n",
    "                      'CO_MUNICIPIO_NASCIMENTO', 'NO_MUNICIPIO_NASCIMENTO', 'CO_UF_NASCIMENTO', 'SG_UF_NASCIMENTO', \n",
    "                      'CO_MUNICIPIO_ESC', 'CO_UF_ESC', 'TP_ANO_CONCLUIU','TP_ENSINO', 'TP_DEPENDENCIA_ADM_ESC',\n",
    "                      'TP_LOCALIZACAO_ESC', 'TP_SIT_FUNC_ESC', 'Q025'])"
   ]
  },
  {
   "cell_type": "code",
   "execution_count": 7,
   "id": "88c7e4b3",
   "metadata": {},
   "outputs": [],
   "source": [
    "# renomeando algumas colunas para facilitar a manipulação\n",
    "df = df.rename(columns={'NU_IDADE': 'IDADE','TP_SEXO': 'SEXO', 'TP_COR_RACA': 'RACA', 'TP_ESCOLA':'ESCOLA',\n",
    "                        'NU_NOTA_CN': 'NOTA_CN', 'NU_NOTA_CH': 'NOTA_CH', 'NU_NOTA_LC': 'NOTA_LC', 'NU_NOTA_MT': 'NOTA_MT',\n",
    "                       'NU_NOTA_COMP1': 'NOTA_COMP1', 'NU_NOTA_COMP2': 'NOTA_COMP2', 'NU_NOTA_COMP3': 'NOTA_COMP3', \n",
    "                       'NU_NOTA_COMP4': 'NOTA_COMP4', 'NU_NOTA_COMP5': 'NOTA_COMP5', 'NU_NOTA_REDACAO': 'NOTA_REDACAO'})"
   ]
  },
  {
   "cell_type": "code",
   "execution_count": 8,
   "id": "5f7101b4",
   "metadata": {},
   "outputs": [],
   "source": [
    "# renomeando índices de acordo com o dicionário da tabela\n",
    "df['RACA'] = df['RACA'].replace({0:\"nao_declarado\", 1:\"branca\", 2:\"preta\", 3:\"parda\", 4:\"amarela\", 5:\"indigena\"})"
   ]
  },
  {
   "cell_type": "code",
   "execution_count": 9,
   "id": "748c7534",
   "metadata": {},
   "outputs": [],
   "source": [
    "df['TP_LINGUA'] = df ['TP_LINGUA'].replace({0:\"Inglês\", 1:\"Espanhol\"})"
   ]
  },
  {
   "cell_type": "code",
   "execution_count": 10,
   "id": "073904c3",
   "metadata": {},
   "outputs": [],
   "source": [
    "df['ESCOLA'] = df['ESCOLA'].replace({1:\"não_respondeu\", 2:\"pública\", 3:\"privada\", 4:\"exterior\"})"
   ]
  },
  {
   "cell_type": "code",
   "execution_count": 11,
   "id": "94c225af",
   "metadata": {},
   "outputs": [],
   "source": [
    "# corrigindo os valores das notas\n",
    "df.loc[:, 'NOTA_CN'] /= 10\n",
    "df.loc[:, 'NOTA_CH'] /= 10\n",
    "df.loc[:, 'NOTA_LC'] /= 10\n",
    "df.loc[:, 'NOTA_MT'] /= 10"
   ]
  },
  {
   "cell_type": "code",
   "execution_count": 12,
   "id": "d0f21dfe",
   "metadata": {},
   "outputs": [
    {
     "data": {
      "text/plain": [
       "1    93991\n",
       "Name: IN_TREINEIRO, dtype: int64"
      ]
     },
     "execution_count": 12,
     "metadata": {},
     "output_type": "execute_result"
    }
   ],
   "source": [
    "#separando os candidatos treineiros que não serão objeto da análise\n",
    "df.query('IN_TREINEIRO == 1')['IN_TREINEIRO'].value_counts()"
   ]
  },
  {
   "cell_type": "code",
   "execution_count": 13,
   "id": "b828d3a9",
   "metadata": {},
   "outputs": [],
   "source": [
    "df_treineiros = df.loc[df.IN_TREINEIRO == 1]"
   ]
  },
  {
   "cell_type": "code",
   "execution_count": 14,
   "id": "ebdf1155",
   "metadata": {},
   "outputs": [],
   "source": [
    "# novo dataframe apenas com os vestibulandos\n",
    "df_vestibulandos = df.loc[df.IN_TREINEIRO == 0]"
   ]
  },
  {
   "cell_type": "code",
   "execution_count": 15,
   "id": "df8d3366",
   "metadata": {},
   "outputs": [
    {
     "data": {
      "text/html": [
       "<div>\n",
       "<style scoped>\n",
       "    .dataframe tbody tr th:only-of-type {\n",
       "        vertical-align: middle;\n",
       "    }\n",
       "\n",
       "    .dataframe tbody tr th {\n",
       "        vertical-align: top;\n",
       "    }\n",
       "\n",
       "    .dataframe thead th {\n",
       "        text-align: right;\n",
       "    }\n",
       "</style>\n",
       "<table border=\"1\" class=\"dataframe\">\n",
       "  <thead>\n",
       "    <tr style=\"text-align: right;\">\n",
       "      <th></th>\n",
       "      <th>NU_INSCRICAO</th>\n",
       "      <th>NO_MUNICIPIO_RESIDENCIA</th>\n",
       "      <th>IDADE</th>\n",
       "      <th>SEXO</th>\n",
       "      <th>RACA</th>\n",
       "      <th>TP_NACIONALIDADE</th>\n",
       "      <th>TP_ST_CONCLUSAO</th>\n",
       "      <th>ESCOLA</th>\n",
       "      <th>IN_TREINEIRO</th>\n",
       "      <th>CO_ESCOLA</th>\n",
       "      <th>NO_MUNICIPIO_ESC</th>\n",
       "      <th>SG_UF_ESC</th>\n",
       "      <th>TP_PRESENCA_CN</th>\n",
       "      <th>TP_PRESENCA_CH</th>\n",
       "      <th>TP_PRESENCA_LC</th>\n",
       "      <th>TP_PRESENCA_MT</th>\n",
       "      <th>NOTA_CN</th>\n",
       "      <th>NOTA_CH</th>\n",
       "      <th>NOTA_LC</th>\n",
       "      <th>NOTA_MT</th>\n",
       "      <th>TP_LINGUA</th>\n",
       "      <th>TP_STATUS_REDACAO</th>\n",
       "      <th>NOTA_COMP1</th>\n",
       "      <th>NOTA_COMP2</th>\n",
       "      <th>NOTA_COMP3</th>\n",
       "      <th>NOTA_COMP4</th>\n",
       "      <th>NOTA_COMP5</th>\n",
       "      <th>NOTA_REDACAO</th>\n",
       "    </tr>\n",
       "  </thead>\n",
       "  <tbody>\n",
       "    <tr>\n",
       "      <th>0</th>\n",
       "      <td>1,90E+11</td>\n",
       "      <td>Santa Isabel</td>\n",
       "      <td>22</td>\n",
       "      <td>M</td>\n",
       "      <td>parda</td>\n",
       "      <td>1</td>\n",
       "      <td>1</td>\n",
       "      <td>não_respondeu</td>\n",
       "      <td>0</td>\n",
       "      <td>NaN</td>\n",
       "      <td>NaN</td>\n",
       "      <td>NaN</td>\n",
       "      <td>1</td>\n",
       "      <td>1</td>\n",
       "      <td>1</td>\n",
       "      <td>1</td>\n",
       "      <td>564.6</td>\n",
       "      <td>585.8</td>\n",
       "      <td>592.9</td>\n",
       "      <td>600.2</td>\n",
       "      <td>Inglês</td>\n",
       "      <td>1.0</td>\n",
       "      <td>160.0</td>\n",
       "      <td>200.0</td>\n",
       "      <td>180.0</td>\n",
       "      <td>200.0</td>\n",
       "      <td>200.0</td>\n",
       "      <td>940.0</td>\n",
       "    </tr>\n",
       "    <tr>\n",
       "      <th>1</th>\n",
       "      <td>1,90E+11</td>\n",
       "      <td>Pinhalzinho</td>\n",
       "      <td>19</td>\n",
       "      <td>M</td>\n",
       "      <td>parda</td>\n",
       "      <td>1</td>\n",
       "      <td>1</td>\n",
       "      <td>não_respondeu</td>\n",
       "      <td>0</td>\n",
       "      <td>NaN</td>\n",
       "      <td>NaN</td>\n",
       "      <td>NaN</td>\n",
       "      <td>0</td>\n",
       "      <td>0</td>\n",
       "      <td>0</td>\n",
       "      <td>0</td>\n",
       "      <td>NaN</td>\n",
       "      <td>NaN</td>\n",
       "      <td>NaN</td>\n",
       "      <td>NaN</td>\n",
       "      <td>Espanhol</td>\n",
       "      <td>NaN</td>\n",
       "      <td>NaN</td>\n",
       "      <td>NaN</td>\n",
       "      <td>NaN</td>\n",
       "      <td>NaN</td>\n",
       "      <td>NaN</td>\n",
       "      <td>NaN</td>\n",
       "    </tr>\n",
       "    <tr>\n",
       "      <th>2</th>\n",
       "      <td>1,90E+11</td>\n",
       "      <td>São Paulo</td>\n",
       "      <td>17</td>\n",
       "      <td>F</td>\n",
       "      <td>parda</td>\n",
       "      <td>1</td>\n",
       "      <td>2</td>\n",
       "      <td>privada</td>\n",
       "      <td>0</td>\n",
       "      <td>15567761.0</td>\n",
       "      <td>Belém</td>\n",
       "      <td>PA</td>\n",
       "      <td>1</td>\n",
       "      <td>1</td>\n",
       "      <td>1</td>\n",
       "      <td>1</td>\n",
       "      <td>576.2</td>\n",
       "      <td>641.1</td>\n",
       "      <td>634.3</td>\n",
       "      <td>731.8</td>\n",
       "      <td>Inglês</td>\n",
       "      <td>1.0</td>\n",
       "      <td>160.0</td>\n",
       "      <td>120.0</td>\n",
       "      <td>200.0</td>\n",
       "      <td>200.0</td>\n",
       "      <td>200.0</td>\n",
       "      <td>880.0</td>\n",
       "    </tr>\n",
       "    <tr>\n",
       "      <th>3</th>\n",
       "      <td>1,90E+11</td>\n",
       "      <td>São Bernardo do Campo</td>\n",
       "      <td>19</td>\n",
       "      <td>M</td>\n",
       "      <td>parda</td>\n",
       "      <td>1</td>\n",
       "      <td>2</td>\n",
       "      <td>pública</td>\n",
       "      <td>0</td>\n",
       "      <td>35904958.0</td>\n",
       "      <td>São Bernardo do Campo</td>\n",
       "      <td>SP</td>\n",
       "      <td>1</td>\n",
       "      <td>1</td>\n",
       "      <td>1</td>\n",
       "      <td>1</td>\n",
       "      <td>402.2</td>\n",
       "      <td>424.8</td>\n",
       "      <td>509.6</td>\n",
       "      <td>393.2</td>\n",
       "      <td>Espanhol</td>\n",
       "      <td>1.0</td>\n",
       "      <td>80.0</td>\n",
       "      <td>160.0</td>\n",
       "      <td>120.0</td>\n",
       "      <td>100.0</td>\n",
       "      <td>100.0</td>\n",
       "      <td>560.0</td>\n",
       "    </tr>\n",
       "    <tr>\n",
       "      <th>4</th>\n",
       "      <td>1,90E+11</td>\n",
       "      <td>São Joaquim da Barra</td>\n",
       "      <td>37</td>\n",
       "      <td>M</td>\n",
       "      <td>branca</td>\n",
       "      <td>1</td>\n",
       "      <td>1</td>\n",
       "      <td>não_respondeu</td>\n",
       "      <td>0</td>\n",
       "      <td>NaN</td>\n",
       "      <td>NaN</td>\n",
       "      <td>NaN</td>\n",
       "      <td>0</td>\n",
       "      <td>0</td>\n",
       "      <td>0</td>\n",
       "      <td>0</td>\n",
       "      <td>NaN</td>\n",
       "      <td>NaN</td>\n",
       "      <td>NaN</td>\n",
       "      <td>NaN</td>\n",
       "      <td>Espanhol</td>\n",
       "      <td>NaN</td>\n",
       "      <td>NaN</td>\n",
       "      <td>NaN</td>\n",
       "      <td>NaN</td>\n",
       "      <td>NaN</td>\n",
       "      <td>NaN</td>\n",
       "      <td>NaN</td>\n",
       "    </tr>\n",
       "  </tbody>\n",
       "</table>\n",
       "</div>"
      ],
      "text/plain": [
       "  NU_INSCRICAO NO_MUNICIPIO_RESIDENCIA  IDADE SEXO    RACA  TP_NACIONALIDADE  \\\n",
       "0     1,90E+11            Santa Isabel     22    M   parda                 1   \n",
       "1     1,90E+11             Pinhalzinho     19    M   parda                 1   \n",
       "2     1,90E+11               São Paulo     17    F   parda                 1   \n",
       "3     1,90E+11   São Bernardo do Campo     19    M   parda                 1   \n",
       "4     1,90E+11    São Joaquim da Barra     37    M  branca                 1   \n",
       "\n",
       "   TP_ST_CONCLUSAO         ESCOLA  IN_TREINEIRO   CO_ESCOLA  \\\n",
       "0                1  não_respondeu             0         NaN   \n",
       "1                1  não_respondeu             0         NaN   \n",
       "2                2        privada             0  15567761.0   \n",
       "3                2        pública             0  35904958.0   \n",
       "4                1  não_respondeu             0         NaN   \n",
       "\n",
       "        NO_MUNICIPIO_ESC SG_UF_ESC  TP_PRESENCA_CN  TP_PRESENCA_CH  \\\n",
       "0                    NaN       NaN               1               1   \n",
       "1                    NaN       NaN               0               0   \n",
       "2                  Belém        PA               1               1   \n",
       "3  São Bernardo do Campo        SP               1               1   \n",
       "4                    NaN       NaN               0               0   \n",
       "\n",
       "   TP_PRESENCA_LC  TP_PRESENCA_MT  NOTA_CN  NOTA_CH  NOTA_LC  NOTA_MT  \\\n",
       "0               1               1    564.6    585.8    592.9    600.2   \n",
       "1               0               0      NaN      NaN      NaN      NaN   \n",
       "2               1               1    576.2    641.1    634.3    731.8   \n",
       "3               1               1    402.2    424.8    509.6    393.2   \n",
       "4               0               0      NaN      NaN      NaN      NaN   \n",
       "\n",
       "  TP_LINGUA  TP_STATUS_REDACAO  NOTA_COMP1  NOTA_COMP2  NOTA_COMP3  \\\n",
       "0    Inglês                1.0       160.0       200.0       180.0   \n",
       "1  Espanhol                NaN         NaN         NaN         NaN   \n",
       "2    Inglês                1.0       160.0       120.0       200.0   \n",
       "3  Espanhol                1.0        80.0       160.0       120.0   \n",
       "4  Espanhol                NaN         NaN         NaN         NaN   \n",
       "\n",
       "   NOTA_COMP4  NOTA_COMP5  NOTA_REDACAO  \n",
       "0       200.0       200.0         940.0  \n",
       "1         NaN         NaN           NaN  \n",
       "2       200.0       200.0         880.0  \n",
       "3       100.0       100.0         560.0  \n",
       "4         NaN         NaN           NaN  "
      ]
     },
     "execution_count": 15,
     "metadata": {},
     "output_type": "execute_result"
    }
   ],
   "source": [
    "df_vestibulandos.head()"
   ]
  },
  {
   "cell_type": "code",
   "execution_count": 16,
   "id": "a345f46c",
   "metadata": {},
   "outputs": [
    {
     "data": {
      "text/plain": [
       "2          1\n",
       "3          1\n",
       "4          1\n",
       "5          2\n",
       "6          2\n",
       "7          3\n",
       "8          6\n",
       "12         6\n",
       "13        29\n",
       "14       355\n",
       "15     11583\n",
       "16     59316\n",
       "17    219313\n",
       "18    147548\n",
       "19     81236\n",
       "20     53009\n",
       "21     37242\n",
       "22     29489\n",
       "23     23531\n",
       "24     18851\n",
       "25     15103\n",
       "26     12465\n",
       "27     10367\n",
       "28      8986\n",
       "29      7650\n",
       "30      6967\n",
       "31      6331\n",
       "32      5685\n",
       "33      5175\n",
       "34      4795\n",
       "35      4340\n",
       "36      4109\n",
       "37      4105\n",
       "38      3767\n",
       "39      3299\n",
       "40      3058\n",
       "41      2638\n",
       "42      2462\n",
       "43      2307\n",
       "44      2069\n",
       "45      1939\n",
       "46      1718\n",
       "47      1578\n",
       "48      1496\n",
       "49      1304\n",
       "50      1167\n",
       "51      1014\n",
       "52       933\n",
       "53       841\n",
       "54       727\n",
       "55       652\n",
       "56       530\n",
       "57       497\n",
       "58       388\n",
       "59       325\n",
       "60       254\n",
       "61       236\n",
       "62       176\n",
       "63       144\n",
       "64       139\n",
       "65       115\n",
       "66        81\n",
       "67        72\n",
       "68        53\n",
       "69        43\n",
       "70        40\n",
       "71        25\n",
       "72        17\n",
       "73        16\n",
       "74        13\n",
       "75        10\n",
       "76         8\n",
       "77         3\n",
       "78         3\n",
       "79         4\n",
       "80         2\n",
       "81         3\n",
       "82         2\n",
       "86         1\n",
       "91         1\n",
       "Name: IDADE, dtype: int64"
      ]
     },
     "execution_count": 16,
     "metadata": {},
     "output_type": "execute_result"
    }
   ],
   "source": [
    "# verificando se existem erros nas idades dos candidatos\n",
    "df ['IDADE'].value_counts().sort_index()"
   ]
  },
  {
   "cell_type": "code",
   "execution_count": 17,
   "id": "04adcb65",
   "metadata": {},
   "outputs": [],
   "source": [
    "# novo dataframe apenas com idades válidas para ingressar nas universidades\n",
    "df_validos = df_vestibulandos.loc[df_vestibulandos.IDADE > 16]"
   ]
  },
  {
   "cell_type": "code",
   "execution_count": 18,
   "id": "d21333e1",
   "metadata": {},
   "outputs": [
    {
     "data": {
      "text/plain": [
       "17    197330\n",
       "18    145707\n",
       "19     80953\n",
       "20     52924\n",
       "21     37201\n",
       "22     29441\n",
       "23     23493\n",
       "24     18827\n",
       "25     15078\n",
       "26     12444\n",
       "27     10340\n",
       "28      8975\n",
       "29      7636\n",
       "30      6949\n",
       "31      6321\n",
       "32      5675\n",
       "33      5167\n",
       "34      4783\n",
       "35      4325\n",
       "36      4100\n",
       "37      4098\n",
       "38      3757\n",
       "39      3291\n",
       "40      3041\n",
       "41      2632\n",
       "42      2452\n",
       "43      2298\n",
       "44      2061\n",
       "45      1931\n",
       "46      1709\n",
       "47      1570\n",
       "48      1488\n",
       "49      1303\n",
       "50      1157\n",
       "51      1009\n",
       "52       929\n",
       "53       839\n",
       "54       722\n",
       "55       644\n",
       "56       527\n",
       "57       495\n",
       "58       387\n",
       "59       324\n",
       "60       253\n",
       "61       235\n",
       "62       175\n",
       "63       144\n",
       "64       139\n",
       "65       115\n",
       "66        78\n",
       "67        72\n",
       "68        53\n",
       "69        42\n",
       "70        40\n",
       "71        25\n",
       "72        17\n",
       "73        16\n",
       "74        13\n",
       "75        10\n",
       "76         8\n",
       "77         3\n",
       "78         3\n",
       "79         4\n",
       "80         2\n",
       "81         3\n",
       "82         2\n",
       "86         1\n",
       "91         1\n",
       "Name: IDADE, dtype: int64"
      ]
     },
     "execution_count": 18,
     "metadata": {},
     "output_type": "execute_result"
    }
   ],
   "source": [
    "df_validos['IDADE'].value_counts().sort_index()"
   ]
  },
  {
   "cell_type": "code",
   "execution_count": 19,
   "id": "f58e5785",
   "metadata": {},
   "outputs": [
    {
     "data": {
      "text/plain": [
       "1    499163\n",
       "0    218354\n",
       "2       270\n",
       "Name: TP_PRESENCA_CN, dtype: int64"
      ]
     },
     "execution_count": 19,
     "metadata": {},
     "output_type": "execute_result"
    }
   ],
   "source": [
    "# contando a presença nas provas\n",
    "# 0: faltou, 1: presente, 2: eliminado\n",
    "df_validos['TP_PRESENCA_CN'].value_counts()"
   ]
  },
  {
   "cell_type": "code",
   "execution_count": 20,
   "id": "3587e45c",
   "metadata": {},
   "outputs": [
    {
     "data": {
      "text/plain": [
       "1    499163\n",
       "0    218354\n",
       "2       270\n",
       "Name: TP_PRESENCA_MT, dtype: int64"
      ]
     },
     "execution_count": 20,
     "metadata": {},
     "output_type": "execute_result"
    }
   ],
   "source": [
    "df_validos['TP_PRESENCA_MT'].value_counts()"
   ]
  },
  {
   "cell_type": "code",
   "execution_count": 21,
   "id": "88f78258",
   "metadata": {},
   "outputs": [
    {
     "data": {
      "text/plain": [
       "1    531402\n",
       "0    185734\n",
       "2       651\n",
       "Name: TP_PRESENCA_CH, dtype: int64"
      ]
     },
     "execution_count": 21,
     "metadata": {},
     "output_type": "execute_result"
    }
   ],
   "source": [
    "df_validos['TP_PRESENCA_CH'].value_counts()"
   ]
  },
  {
   "cell_type": "code",
   "execution_count": 22,
   "id": "d1541160",
   "metadata": {},
   "outputs": [
    {
     "data": {
      "text/plain": [
       "1    531402\n",
       "0    185734\n",
       "2       651\n",
       "Name: TP_PRESENCA_LC, dtype: int64"
      ]
     },
     "execution_count": 22,
     "metadata": {},
     "output_type": "execute_result"
    }
   ],
   "source": [
    "df_validos['TP_PRESENCA_LC'].value_counts()"
   ]
  },
  {
   "cell_type": "code",
   "execution_count": 23,
   "id": "db170bf0",
   "metadata": {},
   "outputs": [],
   "source": [
    "# selecionando apenas os que estavam presentes nos dois dias de provas\n",
    "df_validos = df_validos.loc[df_validos.TP_PRESENCA_CH == 1]"
   ]
  },
  {
   "cell_type": "code",
   "execution_count": 24,
   "id": "43e44ab9",
   "metadata": {},
   "outputs": [],
   "source": [
    "df_validos = df_validos.loc[df_validos.TP_PRESENCA_MT == 1]"
   ]
  },
  {
   "cell_type": "code",
   "execution_count": 25,
   "id": "499d9a2a",
   "metadata": {},
   "outputs": [
    {
     "data": {
      "text/plain": [
       "1    498311\n",
       "Name: TP_PRESENCA_LC, dtype: int64"
      ]
     },
     "execution_count": 25,
     "metadata": {},
     "output_type": "execute_result"
    }
   ],
   "source": [
    "df_validos['TP_PRESENCA_LC'].value_counts()"
   ]
  },
  {
   "cell_type": "code",
   "execution_count": 26,
   "id": "195bba81",
   "metadata": {},
   "outputs": [
    {
     "data": {
      "text/plain": [
       "1    498311\n",
       "Name: TP_PRESENCA_CN, dtype: int64"
      ]
     },
     "execution_count": 26,
     "metadata": {},
     "output_type": "execute_result"
    }
   ],
   "source": [
    "df_validos['TP_PRESENCA_CN'].value_counts()"
   ]
  },
  {
   "cell_type": "code",
   "execution_count": 27,
   "id": "196cd316",
   "metadata": {},
   "outputs": [
    {
     "data": {
      "text/plain": [
       "NOTA_REDACAO    0\n",
       "NOTA_CN         0\n",
       "NOTA_MT         0\n",
       "NOTA_LC         0\n",
       "NOTA_CH         0\n",
       "dtype: int64"
      ]
     },
     "execution_count": 27,
     "metadata": {},
     "output_type": "execute_result"
    }
   ],
   "source": [
    "# verificando valores missing nas notas das provas\n",
    "provas = ['NOTA_REDACAO','NOTA_CN','NOTA_MT','NOTA_LC','NOTA_CH']\n",
    "df_validos[provas].isnull().sum()"
   ]
  },
  {
   "cell_type": "code",
   "execution_count": 28,
   "id": "694c54cd",
   "metadata": {},
   "outputs": [],
   "source": [
    "# criando uma coluna com as médias simples de todas as notas\n",
    "df_validos['MEDIA_TOTAL'] = df_validos[provas].sum(axis=1) / 5"
   ]
  },
  {
   "cell_type": "code",
   "execution_count": 29,
   "id": "cf4588cb",
   "metadata": {},
   "outputs": [
    {
     "data": {
      "text/html": [
       "<div>\n",
       "<style scoped>\n",
       "    .dataframe tbody tr th:only-of-type {\n",
       "        vertical-align: middle;\n",
       "    }\n",
       "\n",
       "    .dataframe tbody tr th {\n",
       "        vertical-align: top;\n",
       "    }\n",
       "\n",
       "    .dataframe thead th {\n",
       "        text-align: right;\n",
       "    }\n",
       "</style>\n",
       "<table border=\"1\" class=\"dataframe\">\n",
       "  <thead>\n",
       "    <tr style=\"text-align: right;\">\n",
       "      <th></th>\n",
       "      <th>NU_INSCRICAO</th>\n",
       "      <th>NO_MUNICIPIO_RESIDENCIA</th>\n",
       "      <th>IDADE</th>\n",
       "      <th>SEXO</th>\n",
       "      <th>RACA</th>\n",
       "      <th>TP_NACIONALIDADE</th>\n",
       "      <th>TP_ST_CONCLUSAO</th>\n",
       "      <th>ESCOLA</th>\n",
       "      <th>IN_TREINEIRO</th>\n",
       "      <th>CO_ESCOLA</th>\n",
       "      <th>NO_MUNICIPIO_ESC</th>\n",
       "      <th>SG_UF_ESC</th>\n",
       "      <th>TP_PRESENCA_CN</th>\n",
       "      <th>TP_PRESENCA_CH</th>\n",
       "      <th>TP_PRESENCA_LC</th>\n",
       "      <th>TP_PRESENCA_MT</th>\n",
       "      <th>NOTA_CN</th>\n",
       "      <th>NOTA_CH</th>\n",
       "      <th>NOTA_LC</th>\n",
       "      <th>NOTA_MT</th>\n",
       "      <th>TP_LINGUA</th>\n",
       "      <th>TP_STATUS_REDACAO</th>\n",
       "      <th>NOTA_COMP1</th>\n",
       "      <th>NOTA_COMP2</th>\n",
       "      <th>NOTA_COMP3</th>\n",
       "      <th>NOTA_COMP4</th>\n",
       "      <th>NOTA_COMP5</th>\n",
       "      <th>NOTA_REDACAO</th>\n",
       "      <th>MEDIA_TOTAL</th>\n",
       "    </tr>\n",
       "  </thead>\n",
       "  <tbody>\n",
       "    <tr>\n",
       "      <th>0</th>\n",
       "      <td>1,90E+11</td>\n",
       "      <td>Santa Isabel</td>\n",
       "      <td>22</td>\n",
       "      <td>M</td>\n",
       "      <td>parda</td>\n",
       "      <td>1</td>\n",
       "      <td>1</td>\n",
       "      <td>não_respondeu</td>\n",
       "      <td>0</td>\n",
       "      <td>NaN</td>\n",
       "      <td>NaN</td>\n",
       "      <td>NaN</td>\n",
       "      <td>1</td>\n",
       "      <td>1</td>\n",
       "      <td>1</td>\n",
       "      <td>1</td>\n",
       "      <td>564.6</td>\n",
       "      <td>585.8</td>\n",
       "      <td>592.9</td>\n",
       "      <td>600.2</td>\n",
       "      <td>Inglês</td>\n",
       "      <td>1.0</td>\n",
       "      <td>160.0</td>\n",
       "      <td>200.0</td>\n",
       "      <td>180.0</td>\n",
       "      <td>200.0</td>\n",
       "      <td>200.0</td>\n",
       "      <td>940.0</td>\n",
       "      <td>656.70</td>\n",
       "    </tr>\n",
       "    <tr>\n",
       "      <th>2</th>\n",
       "      <td>1,90E+11</td>\n",
       "      <td>São Paulo</td>\n",
       "      <td>17</td>\n",
       "      <td>F</td>\n",
       "      <td>parda</td>\n",
       "      <td>1</td>\n",
       "      <td>2</td>\n",
       "      <td>privada</td>\n",
       "      <td>0</td>\n",
       "      <td>15567761.0</td>\n",
       "      <td>Belém</td>\n",
       "      <td>PA</td>\n",
       "      <td>1</td>\n",
       "      <td>1</td>\n",
       "      <td>1</td>\n",
       "      <td>1</td>\n",
       "      <td>576.2</td>\n",
       "      <td>641.1</td>\n",
       "      <td>634.3</td>\n",
       "      <td>731.8</td>\n",
       "      <td>Inglês</td>\n",
       "      <td>1.0</td>\n",
       "      <td>160.0</td>\n",
       "      <td>120.0</td>\n",
       "      <td>200.0</td>\n",
       "      <td>200.0</td>\n",
       "      <td>200.0</td>\n",
       "      <td>880.0</td>\n",
       "      <td>692.68</td>\n",
       "    </tr>\n",
       "    <tr>\n",
       "      <th>3</th>\n",
       "      <td>1,90E+11</td>\n",
       "      <td>São Bernardo do Campo</td>\n",
       "      <td>19</td>\n",
       "      <td>M</td>\n",
       "      <td>parda</td>\n",
       "      <td>1</td>\n",
       "      <td>2</td>\n",
       "      <td>pública</td>\n",
       "      <td>0</td>\n",
       "      <td>35904958.0</td>\n",
       "      <td>São Bernardo do Campo</td>\n",
       "      <td>SP</td>\n",
       "      <td>1</td>\n",
       "      <td>1</td>\n",
       "      <td>1</td>\n",
       "      <td>1</td>\n",
       "      <td>402.2</td>\n",
       "      <td>424.8</td>\n",
       "      <td>509.6</td>\n",
       "      <td>393.2</td>\n",
       "      <td>Espanhol</td>\n",
       "      <td>1.0</td>\n",
       "      <td>80.0</td>\n",
       "      <td>160.0</td>\n",
       "      <td>120.0</td>\n",
       "      <td>100.0</td>\n",
       "      <td>100.0</td>\n",
       "      <td>560.0</td>\n",
       "      <td>457.96</td>\n",
       "    </tr>\n",
       "    <tr>\n",
       "      <th>5</th>\n",
       "      <td>1,90E+11</td>\n",
       "      <td>Embu-Guaçu</td>\n",
       "      <td>17</td>\n",
       "      <td>F</td>\n",
       "      <td>parda</td>\n",
       "      <td>1</td>\n",
       "      <td>2</td>\n",
       "      <td>pública</td>\n",
       "      <td>0</td>\n",
       "      <td>NaN</td>\n",
       "      <td>NaN</td>\n",
       "      <td>NaN</td>\n",
       "      <td>1</td>\n",
       "      <td>1</td>\n",
       "      <td>1</td>\n",
       "      <td>1</td>\n",
       "      <td>399.6</td>\n",
       "      <td>426.8</td>\n",
       "      <td>487.2</td>\n",
       "      <td>419.2</td>\n",
       "      <td>Inglês</td>\n",
       "      <td>1.0</td>\n",
       "      <td>120.0</td>\n",
       "      <td>120.0</td>\n",
       "      <td>120.0</td>\n",
       "      <td>120.0</td>\n",
       "      <td>80.0</td>\n",
       "      <td>560.0</td>\n",
       "      <td>458.56</td>\n",
       "    </tr>\n",
       "    <tr>\n",
       "      <th>8</th>\n",
       "      <td>1,90E+11</td>\n",
       "      <td>Guarulhos</td>\n",
       "      <td>23</td>\n",
       "      <td>F</td>\n",
       "      <td>branca</td>\n",
       "      <td>1</td>\n",
       "      <td>1</td>\n",
       "      <td>não_respondeu</td>\n",
       "      <td>0</td>\n",
       "      <td>NaN</td>\n",
       "      <td>NaN</td>\n",
       "      <td>NaN</td>\n",
       "      <td>1</td>\n",
       "      <td>1</td>\n",
       "      <td>1</td>\n",
       "      <td>1</td>\n",
       "      <td>625.7</td>\n",
       "      <td>646.5</td>\n",
       "      <td>629.3</td>\n",
       "      <td>796.1</td>\n",
       "      <td>Inglês</td>\n",
       "      <td>1.0</td>\n",
       "      <td>160.0</td>\n",
       "      <td>200.0</td>\n",
       "      <td>180.0</td>\n",
       "      <td>180.0</td>\n",
       "      <td>160.0</td>\n",
       "      <td>880.0</td>\n",
       "      <td>715.52</td>\n",
       "    </tr>\n",
       "  </tbody>\n",
       "</table>\n",
       "</div>"
      ],
      "text/plain": [
       "  NU_INSCRICAO NO_MUNICIPIO_RESIDENCIA  IDADE SEXO    RACA  TP_NACIONALIDADE  \\\n",
       "0     1,90E+11            Santa Isabel     22    M   parda                 1   \n",
       "2     1,90E+11               São Paulo     17    F   parda                 1   \n",
       "3     1,90E+11   São Bernardo do Campo     19    M   parda                 1   \n",
       "5     1,90E+11              Embu-Guaçu     17    F   parda                 1   \n",
       "8     1,90E+11               Guarulhos     23    F  branca                 1   \n",
       "\n",
       "   TP_ST_CONCLUSAO         ESCOLA  IN_TREINEIRO   CO_ESCOLA  \\\n",
       "0                1  não_respondeu             0         NaN   \n",
       "2                2        privada             0  15567761.0   \n",
       "3                2        pública             0  35904958.0   \n",
       "5                2        pública             0         NaN   \n",
       "8                1  não_respondeu             0         NaN   \n",
       "\n",
       "        NO_MUNICIPIO_ESC SG_UF_ESC  TP_PRESENCA_CN  TP_PRESENCA_CH  \\\n",
       "0                    NaN       NaN               1               1   \n",
       "2                  Belém        PA               1               1   \n",
       "3  São Bernardo do Campo        SP               1               1   \n",
       "5                    NaN       NaN               1               1   \n",
       "8                    NaN       NaN               1               1   \n",
       "\n",
       "   TP_PRESENCA_LC  TP_PRESENCA_MT  NOTA_CN  NOTA_CH  NOTA_LC  NOTA_MT  \\\n",
       "0               1               1    564.6    585.8    592.9    600.2   \n",
       "2               1               1    576.2    641.1    634.3    731.8   \n",
       "3               1               1    402.2    424.8    509.6    393.2   \n",
       "5               1               1    399.6    426.8    487.2    419.2   \n",
       "8               1               1    625.7    646.5    629.3    796.1   \n",
       "\n",
       "  TP_LINGUA  TP_STATUS_REDACAO  NOTA_COMP1  NOTA_COMP2  NOTA_COMP3  \\\n",
       "0    Inglês                1.0       160.0       200.0       180.0   \n",
       "2    Inglês                1.0       160.0       120.0       200.0   \n",
       "3  Espanhol                1.0        80.0       160.0       120.0   \n",
       "5    Inglês                1.0       120.0       120.0       120.0   \n",
       "8    Inglês                1.0       160.0       200.0       180.0   \n",
       "\n",
       "   NOTA_COMP4  NOTA_COMP5  NOTA_REDACAO  MEDIA_TOTAL  \n",
       "0       200.0       200.0         940.0       656.70  \n",
       "2       200.0       200.0         880.0       692.68  \n",
       "3       100.0       100.0         560.0       457.96  \n",
       "5       120.0        80.0         560.0       458.56  \n",
       "8       180.0       160.0         880.0       715.52  "
      ]
     },
     "execution_count": 29,
     "metadata": {},
     "output_type": "execute_result"
    }
   ],
   "source": [
    "df_validos.head()"
   ]
  },
  {
   "cell_type": "markdown",
   "id": "2dc65046",
   "metadata": {},
   "source": [
    "# FASE DE ANÁLISE DOS DADOS"
   ]
  },
  {
   "cell_type": "markdown",
   "id": "0fd9e084",
   "metadata": {},
   "source": [
    "### Contando as notas 0 em cada matéria"
   ]
  },
  {
   "cell_type": "code",
   "execution_count": 30,
   "id": "25c0a228",
   "metadata": {},
   "outputs": [
    {
     "data": {
      "text/plain": [
       "0.0    9152\n",
       "Name: NOTA_REDACAO, dtype: int64"
      ]
     },
     "execution_count": 30,
     "metadata": {},
     "output_type": "execute_result"
    }
   ],
   "source": [
    "df_validos.query('NOTA_REDACAO == 0')['NOTA_REDACAO'].value_counts()"
   ]
  },
  {
   "cell_type": "code",
   "execution_count": 31,
   "id": "018a0e79",
   "metadata": {},
   "outputs": [
    {
     "data": {
      "text/plain": [
       "0.0    9159\n",
       "Name: NOTA_COMP1, dtype: int64"
      ]
     },
     "execution_count": 31,
     "metadata": {},
     "output_type": "execute_result"
    }
   ],
   "source": [
    "df_validos.query('NOTA_COMP1 == 0')['NOTA_COMP1'].value_counts()"
   ]
  },
  {
   "cell_type": "code",
   "execution_count": 32,
   "id": "a9f7782f",
   "metadata": {},
   "outputs": [
    {
     "data": {
      "text/plain": [
       "0.0    9152\n",
       "Name: NOTA_COMP2, dtype: int64"
      ]
     },
     "execution_count": 32,
     "metadata": {},
     "output_type": "execute_result"
    }
   ],
   "source": [
    "df_validos.query('NOTA_COMP2 == 0')['NOTA_COMP2'].value_counts()"
   ]
  },
  {
   "cell_type": "code",
   "execution_count": 33,
   "id": "e24674b5",
   "metadata": {},
   "outputs": [
    {
     "data": {
      "text/plain": [
       "0.0    9168\n",
       "Name: NOTA_COMP3, dtype: int64"
      ]
     },
     "execution_count": 33,
     "metadata": {},
     "output_type": "execute_result"
    }
   ],
   "source": [
    "df_validos.query('NOTA_COMP3 == 0')['NOTA_COMP3'].value_counts()"
   ]
  },
  {
   "cell_type": "code",
   "execution_count": 34,
   "id": "e0907ce1",
   "metadata": {},
   "outputs": [
    {
     "data": {
      "text/plain": [
       "0.0    9165\n",
       "Name: NOTA_COMP4, dtype: int64"
      ]
     },
     "execution_count": 34,
     "metadata": {},
     "output_type": "execute_result"
    }
   ],
   "source": [
    "df_validos.query('NOTA_COMP4 == 0')['NOTA_COMP4'].value_counts()"
   ]
  },
  {
   "cell_type": "code",
   "execution_count": 35,
   "id": "805976b4",
   "metadata": {},
   "outputs": [
    {
     "data": {
      "text/plain": [
       "0.0    73126\n",
       "Name: NOTA_COMP5, dtype: int64"
      ]
     },
     "execution_count": 35,
     "metadata": {},
     "output_type": "execute_result"
    }
   ],
   "source": [
    "df_validos.query('NOTA_COMP5 == 0')['NOTA_COMP5'].value_counts()"
   ]
  },
  {
   "cell_type": "markdown",
   "id": "833e813d",
   "metadata": {},
   "source": [
    "NOTAS ZEROS EM REDAÇÃO:\n",
    "\n",
    "REDAÇÃO (final): 9152 notas zeros devido a não cumprimento das regras ou tirou zero em todos os cinco componentes.\n",
    "\n",
    "COMPONENTE 1(Demonstrar domínio da modalidade escrita formal da Língua Portuguesa.): 9159.\n",
    "\n",
    "COMPONENTE 2 (Compreender a proposta de redação e aplicar conceitos das várias áreas de conhecimento para desenvolver o tema, dentro dos limites estruturais do texto dissertativo-argumentativo em prosa): 9152.\n",
    "\n",
    "COMPONENTE 3 (Selecionar, relacionar, organizar e interpretar informações, fatos, opiniões e argumentos em defesa de um ponto de vista): 9168.\n",
    "\n",
    "COMPONENTE 4 (Demonstrar conhecimento dos mecanismos linguísticos necessários para a construção da argumentação.): 9165.\n",
    "\n",
    "COMPONENTE 5 (Elaborar proposta de intervenção para o problema abordado, respeitando os direitos humanos): 73126.\n",
    "\n",
    "Nota-se que a maior dificuldade entre os candidatos é a elaboração da proposta de intervenção do problema abordado, respeitando os direitos humanos."
   ]
  },
  {
   "cell_type": "code",
   "execution_count": 36,
   "id": "bc1cd052",
   "metadata": {},
   "outputs": [
    {
     "data": {
      "text/plain": [
       "0.0    342\n",
       "Name: NOTA_CH, dtype: int64"
      ]
     },
     "execution_count": 36,
     "metadata": {},
     "output_type": "execute_result"
    }
   ],
   "source": [
    "df_validos.query('NOTA_CH == 0')['NOTA_CH'].value_counts()"
   ]
  },
  {
   "cell_type": "code",
   "execution_count": 37,
   "id": "81a4426a",
   "metadata": {},
   "outputs": [
    {
     "data": {
      "text/plain": [
       "0.0    34\n",
       "Name: NOTA_CN, dtype: int64"
      ]
     },
     "execution_count": 37,
     "metadata": {},
     "output_type": "execute_result"
    }
   ],
   "source": [
    "df_validos.query('NOTA_CN == 0')['NOTA_CN'].value_counts()"
   ]
  },
  {
   "cell_type": "code",
   "execution_count": 38,
   "id": "d876bd09",
   "metadata": {},
   "outputs": [
    {
     "data": {
      "text/plain": [
       "0.0    135\n",
       "Name: NOTA_LC, dtype: int64"
      ]
     },
     "execution_count": 38,
     "metadata": {},
     "output_type": "execute_result"
    }
   ],
   "source": [
    "df_validos.query('NOTA_LC == 0')['NOTA_LC'].value_counts()"
   ]
  },
  {
   "cell_type": "code",
   "execution_count": 39,
   "id": "9c3dea23",
   "metadata": {},
   "outputs": [
    {
     "data": {
      "text/plain": [
       "0.0    54\n",
       "Name: NOTA_MT, dtype: int64"
      ]
     },
     "execution_count": 39,
     "metadata": {},
     "output_type": "execute_result"
    }
   ],
   "source": [
    "df_validos.query('NOTA_MT == 0')['NOTA_MT'].value_counts()"
   ]
  },
  {
   "cell_type": "markdown",
   "id": "decb967e",
   "metadata": {},
   "source": [
    "NOTAS ZEROS DOS INSCRITOS CONCORRENTES AO VESTIBULAR:\n",
    "\n",
    "Ciências Humanas = 342\n",
    "\n",
    "Ciências da Natureza = 34\n",
    "\n",
    "Linguagens e Códigos = 135\n",
    "\n",
    "Matemática = 54\n",
    "\n",
    "Nota-se uma maior deficiência entre os candidatos nas matérias de ciências humanas e linguagens e códigos."
   ]
  },
  {
   "cell_type": "markdown",
   "id": "6dbcd8d1",
   "metadata": {},
   "source": [
    "### Verificando a média das notas"
   ]
  },
  {
   "cell_type": "code",
   "execution_count": 40,
   "id": "d4e375dd",
   "metadata": {},
   "outputs": [
    {
     "data": {
      "text/plain": [
       "count    498311.000000\n",
       "mean        502.882000\n",
       "std          97.313362\n",
       "min           0.000000\n",
       "25%         437.500000\n",
       "50%         500.740000\n",
       "75%         567.200000\n",
       "max         835.900000\n",
       "Name: MEDIA_TOTAL, dtype: float64"
      ]
     },
     "execution_count": 40,
     "metadata": {},
     "output_type": "execute_result"
    }
   ],
   "source": [
    "df_validos['MEDIA_TOTAL'].describe()"
   ]
  },
  {
   "cell_type": "markdown",
   "id": "6c0103df",
   "metadata": {},
   "source": [
    "A média da Média Total dos vestibulandos foi de 502.88, com nota máxima de 835.9 e mínima de 0"
   ]
  },
  {
   "cell_type": "code",
   "execution_count": 41,
   "id": "38b797af",
   "metadata": {},
   "outputs": [
    {
     "data": {
      "text/plain": [
       "count    498311.000000\n",
       "mean        592.920646\n",
       "std         170.520272\n",
       "min           0.000000\n",
       "25%         500.000000\n",
       "50%         600.000000\n",
       "75%         680.000000\n",
       "max        1000.000000\n",
       "Name: NOTA_REDACAO, dtype: float64"
      ]
     },
     "execution_count": 41,
     "metadata": {},
     "output_type": "execute_result"
    }
   ],
   "source": [
    "df_validos['NOTA_REDACAO'].describe()"
   ]
  },
  {
   "cell_type": "markdown",
   "id": "4eb303f8",
   "metadata": {},
   "source": [
    "A média das notas de redação foi de 592.92, com nota máxima de 1000 e mínima de 0"
   ]
  },
  {
   "cell_type": "code",
   "execution_count": 42,
   "id": "b88d1efd",
   "metadata": {},
   "outputs": [
    {
     "data": {
      "text/plain": [
       "count    498311.000000\n",
       "mean        482.208679\n",
       "std         161.127245\n",
       "min           0.000000\n",
       "25%         450.500000\n",
       "50%         523.700000\n",
       "75%         578.100000\n",
       "max         822.700000\n",
       "Name: NOTA_CH, dtype: float64"
      ]
     },
     "execution_count": 42,
     "metadata": {},
     "output_type": "execute_result"
    }
   ],
   "source": [
    "df_validos['NOTA_CH'].describe()"
   ]
  },
  {
   "cell_type": "markdown",
   "id": "5cbbe408",
   "metadata": {},
   "source": [
    "A média das notas de ciências humanas foi de 482.20, com nota máxima de 822.70 e mínima de 0"
   ]
  },
  {
   "cell_type": "code",
   "execution_count": 43,
   "id": "a4e022ed",
   "metadata": {},
   "outputs": [
    {
     "data": {
      "text/plain": [
       "count    498311.000000\n",
       "mean        449.881091\n",
       "std         152.973131\n",
       "min           0.000000\n",
       "25%         412.400000\n",
       "50%         477.900000\n",
       "75%         544.400000\n",
       "max         860.900000\n",
       "Name: NOTA_CN, dtype: float64"
      ]
     },
     "execution_count": 43,
     "metadata": {},
     "output_type": "execute_result"
    }
   ],
   "source": [
    "df_validos['NOTA_CN'].describe()"
   ]
  },
  {
   "cell_type": "markdown",
   "id": "ed1acc41",
   "metadata": {},
   "source": [
    "A média das notas de ciências naturais foi de 449.88, com nota máxima de 860.9 e minima de 0"
   ]
  },
  {
   "cell_type": "code",
   "execution_count": 44,
   "id": "d0e49b61",
   "metadata": {},
   "outputs": [
    {
     "data": {
      "text/plain": [
       "count    498311.000000\n",
       "mean        491.923662\n",
       "std         156.245503\n",
       "min           0.000000\n",
       "25%         490.100000\n",
       "50%         538.300000\n",
       "75%         576.200000\n",
       "max         772.300000\n",
       "Name: NOTA_LC, dtype: float64"
      ]
     },
     "execution_count": 44,
     "metadata": {},
     "output_type": "execute_result"
    }
   ],
   "source": [
    "df_validos['NOTA_LC'].describe()"
   ]
  },
  {
   "cell_type": "markdown",
   "id": "191cccc8",
   "metadata": {},
   "source": [
    "A média das notas de linguagens e códigos foi de 491.92, com nota máxima de 772.30 e mínima de 0"
   ]
  },
  {
   "cell_type": "code",
   "execution_count": 45,
   "id": "5396008c",
   "metadata": {},
   "outputs": [
    {
     "data": {
      "text/plain": [
       "count    498311.000000\n",
       "mean        497.475921\n",
       "std         183.450639\n",
       "min           0.000000\n",
       "25%         427.800000\n",
       "50%         511.700000\n",
       "75%         617.800000\n",
       "max         984.700000\n",
       "Name: NOTA_MT, dtype: float64"
      ]
     },
     "execution_count": 45,
     "metadata": {},
     "output_type": "execute_result"
    }
   ],
   "source": [
    "df_validos['NOTA_MT'].describe()"
   ]
  },
  {
   "cell_type": "markdown",
   "id": "c48eb602",
   "metadata": {},
   "source": [
    "A médias das notas de matemática foi de 497.47, com nota máxima de 984.7 e mínima de 0"
   ]
  },
  {
   "cell_type": "markdown",
   "id": "bf2a6baf",
   "metadata": {},
   "source": [
    "Portanto, a maior média foi da nota de redação (592.92), seguida por matemática (497.47), linguagens e códigos (491.92), ciências\n",
    "humanas (482.20) e ciências naturais (449.88)"
   ]
  },
  {
   "cell_type": "markdown",
   "id": "409eec14",
   "metadata": {},
   "source": [
    "### Analisando as notas comparando por sexo, raça e tipo de escola"
   ]
  },
  {
   "cell_type": "code",
   "execution_count": null,
   "id": "61322079",
   "metadata": {
    "scrolled": false
   },
   "outputs": [],
   "source": [
    "fig = px.box(df_validos, x='SEXO', y='MEDIA_TOTAL', labels={'SEXO': 'Sexo', 'MEDIA_TOTAL': 'Média Total'}, \n",
    "             title='Média Total por Sexo')\n",
    "fig.show()\n",
    "fig.write_html('media_sexo.html')\n"
   ]
  },
  {
   "cell_type": "markdown",
   "id": "f7caf383",
   "metadata": {},
   "source": [
    "Pelo gráfico acima, é possível observar que as notas máximas e mínimas dos candidatos do sexo feminino (835,9 e 68) foram maiores do que as notas dos candidatos do sexo masculino (830,42 e 0), porém a distribuição das notas dos candidatos do sexo masculino ficaram com uma média um pouco acima dos candidatos do sexo feminino. "
   ]
  },
  {
   "cell_type": "code",
   "execution_count": null,
   "id": "38d060c9",
   "metadata": {
    "scrolled": true
   },
   "outputs": [],
   "source": [
    "fig = px.box(df_validos, x='RACA', y='MEDIA_TOTAL', labels={'RACA': 'Raça', 'MEDIA_TOTAL': 'Média Total'}, \n",
    "             title='Média Total por Raça')\n",
    "fig.show()\n",
    "fig.write_html('media_raca.html')"
   ]
  },
  {
   "cell_type": "markdown",
   "id": "c3c2a65f",
   "metadata": {},
   "source": [
    "Pelo gráfico acima, é possível observar que a distribuição das notas com a melhor média é da raça amarela, seguida pela raça\n",
    "branca, não declarados, parda, preta e indígena. A maior média total foi da raça branca (835,9)."
   ]
  },
  {
   "cell_type": "code",
   "execution_count": null,
   "id": "8028f229",
   "metadata": {
    "scrolled": true
   },
   "outputs": [],
   "source": [
    "fig = px.box(df_validos, x='ESCOLA', y='MEDIA_TOTAL', labels={'ESCOLA': 'Escola', 'MEDIA_TOTAL': 'Média Total'}, \n",
    "             title='Média Total por Tipo de Escola')\n",
    "fig.show()\n",
    "fig.write_html('media_escola.html')"
   ]
  },
  {
   "cell_type": "markdown",
   "id": "d7e1ac84",
   "metadata": {},
   "source": [
    "Com o gráfico acima, podemos observar que os candidatos de escola privada obtiveram as melhores notas, o que demonstra uma\n",
    "necessidade maior de investimentos na educação pública."
   ]
  },
  {
   "cell_type": "code",
   "execution_count": null,
   "id": "3432da53",
   "metadata": {},
   "outputs": [],
   "source": []
  }
 ],
 "metadata": {
  "kernelspec": {
   "display_name": "Python 3 (ipykernel)",
   "language": "python",
   "name": "python3"
  },
  "language_info": {
   "codemirror_mode": {
    "name": "ipython",
    "version": 3
   },
   "file_extension": ".py",
   "mimetype": "text/x-python",
   "name": "python",
   "nbconvert_exporter": "python",
   "pygments_lexer": "ipython3",
   "version": "3.9.12"
  }
 },
 "nbformat": 4,
 "nbformat_minor": 5
}
